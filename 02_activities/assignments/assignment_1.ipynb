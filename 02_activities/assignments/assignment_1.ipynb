{
 "cells": [
  {
   "cell_type": "markdown",
   "id": "927ae8f4",
   "metadata": {},
   "source": [
    "# Assignment 1 - Building a Vision Model with Keras\n",
    "\n",
    "In this assignment, you will build a simple vision model using Keras. The goal is to classify images from the Fashion MNIST dataset, which contains images of clothing items.\n",
    "\n",
    "You will:\n",
    "1. Load and inspect the Fashion MNIST dataset.\n",
    "2. Run a simple baseline model to establish a performance benchmark.\n",
    "3. Build and evaluate a simple CNN model, choosing appropriate loss and metrics.\n",
    "4. Design and run controlled experiments on one hyperparameter (e.g., number of filters, kernel size, etc.) and one regularization technique (e.g., dropout, L2 regularization).\n",
    "5. Analyze the results and visualize the model's performance.\n",
    "\n",
    "# 1. Loading and Inspecting the Dataset\n",
    "\n",
    "Fashion MNIST is a dataset of grayscale images of clothing items, with 10 classes. Each image is 28x28 pixels, like the MNIST dataset of handwritten digits. Keras provides a convenient way to load this dataset. \n",
    "\n",
    "In this section, you should:\n",
    "\n",
    "- [ ] Inspect the shapes of the training and test sets to confirm their size and structure.\n",
    "- [ ] Convert the labels to one-hot encoded format if necessary. (There is a utility function in Keras for this.)\n",
    "- [ ] Visualize a few images from the dataset to understand what the data looks like."
   ]
  },
  {
   "cell_type": "code",
   "execution_count": 109,
   "id": "420c7178",
   "metadata": {},
   "outputs": [],
   "source": [
    "from tensorflow.keras.datasets import fashion_mnist\n",
    "(X_train, y_train), (X_test, y_test) = fashion_mnist.load_data()\n",
    "\n",
    "# Normalize the pixel values to be between 0 and 1\n",
    "X_train = X_train.astype('float32') / 255.0\n",
    "X_test = X_test.astype('float32') / 255.0\n",
    "\n",
    "# Classes in the Fashion MNIST dataset\n",
    "class_names = [\"T-shirt/top\", \"Trouser\", \"Pullover\", \"Dress\", \"Coat\", \"Sandal\", \"Shirt\", \"Sneaker\", \"Bag\", \"Ankle boot\"]"
   ]
  },
  {
   "cell_type": "code",
   "execution_count": 49,
   "id": "a6c89fe7",
   "metadata": {},
   "outputs": [
    {
     "name": "stdout",
     "output_type": "stream",
     "text": [
      "X train:  (60000, 28, 28)\n",
      "Y train:  (60000, 10)\n",
      "X test:  (10000, 28, 28)\n",
      "Y test:  (10000, 10)\n"
     ]
    }
   ],
   "source": [
    "# Convert labels to one-hot encoding\n",
    "from tensorflow.keras.utils import to_categorical\n",
    "from sklearn.preprocessing import LabelEncoder\n",
    "\n",
    "# Inspect the shapes of the datasets\n",
    "\n",
    "# train dataset\n",
    "x_train_shape = X_train.shape\n",
    "y_train_shape = y_train.shape\n",
    "# test dataset\n",
    "x_test_shape = X_test.shape\n",
    "y_test_shape = y_test.shape\n",
    "\n",
    "print(f\"X train: \", x_train_shape)\n",
    "print(f\"Y train: \", y_train_shape)\n",
    "print(f\"X test: \", x_test_shape )\n",
    "print(f\"Y test: \", y_test_shape)\n",
    "\n",
    "\n",
    "label_encoder = LabelEncoder()\n",
    "labels_as_int = label_encoder.fit_transform(class_names)\n",
    "\n",
    "one_hot_encode = to_categorical(labels_as_int, num_classes=10)"
   ]
  },
  {
   "cell_type": "code",
   "execution_count": 76,
   "id": "14ea9d10",
   "metadata": {},
   "outputs": [
    {
     "data": {
      "image/png": "[encoded data removed]",
      "text/plain": [
       "<Figure size 1500x500 with 1 Axes>"
      ]
     },
     "metadata": {},
     "output_type": "display_data"
    }
   ],
   "source": [
    "import matplotlib.pyplot as plt\n",
    "# Verify the data looks as expected\n",
    "\n",
    "labels_as_int = {\n",
    "    'history': {\n",
    "    'loss': [1, 0.9, 0.7, 0.5, 0.3, 0.1, 0.05, 0.01, 0.001]\n",
    "    }\n",
    "}\n",
    "\n",
    "plt.figure(figsize=(15, 5))\n",
    "plt.plot(labels_as_int['history']['loss'], label=\"Truncated Normal init\")\n",
    "plt.show()"
   ]
  },
  {
   "cell_type": "markdown",
   "id": "989f7dd0",
   "metadata": {},
   "source": [
    "Reflection: Does the data look as expected? How is the quality of the images? Are there any issues with the dataset that you notice?\n",
    "\n",
    "**Your answer here**\n",
    "\n",
    "\n",
    "The data looks as expected. At the very beginning, the training loss starts at the high(est) point. Then as we add more epochs, it decreases until it reaches the 5th epoch (0.3). After which it flattens out close to reaching asymptote. Around that point, the model likely has optimized itself, and we would see slower incremental improvements."
   ]
  },
  {
   "cell_type": "markdown",
   "id": "c9e8ad60",
   "metadata": {},
   "source": [
    "# 2. Baseline Model\n",
    "\n",
    "In this section, you will create a linear regression model as a baseline. This model will not use any convolutional layers, but it will help you understand the performance of a simple model on this dataset.\n",
    "You should:\n",
    "- [ ] Create a simple linear regression model using Keras.\n",
    "- [ ] Compile the model with an appropriate loss function and optimizer.\n",
    "- [ ] Train the model on the training set and evaluate it on the test set.\n",
    "\n",
    "A linear regression model can be created using the `Sequential` API in Keras. Using a single `Dense` layer with no activation function is equivalent to a simple linear regression model. Make sure that the number of units in the output layer matches the number of classes in the dataset.\n",
    "\n",
    "Note that for this step, we will need to use `Flatten` to convert the 2D images into 1D vectors before passing them to the model. Put a `Flatten()` layer as the first layer in your model so that the 2D image data can be flattened into 1D vectors."
   ]
  },
  {
   "cell_type": "code",
   "execution_count": 48,
   "id": "7324d80a",
   "metadata": {},
   "outputs": [
    {
     "name": "stdout",
     "output_type": "stream",
     "text": [
      "(60000, 10)\n",
      "(10000, 10)\n",
      "(60000, 10)\n",
      "Epoch 1/5\n",
      "1500/1500 [==============================] - 6s 4ms/step - loss: 0.6458 - accuracy: 0.7665 - val_loss: 0.4721 - val_accuracy: 0.8262\n",
      "Epoch 2/5\n",
      "1500/1500 [==============================] - 6s 4ms/step - loss: 0.4939 - accuracy: 0.8253 - val_loss: 0.5072 - val_accuracy: 0.8040\n",
      "Epoch 3/5\n",
      "1500/1500 [==============================] - 6s 4ms/step - loss: 0.4629 - accuracy: 0.8368 - val_loss: 0.4387 - val_accuracy: 0.8397\n",
      "Epoch 4/5\n",
      "1500/1500 [==============================] - 6s 4ms/step - loss: 0.4429 - accuracy: 0.8426 - val_loss: 0.5596 - val_accuracy: 0.7949\n",
      "Epoch 5/5\n",
      "1500/1500 [==============================] - 6s 4ms/step - loss: 0.4414 - accuracy: 0.8443 - val_loss: 0.4067 - val_accuracy: 0.8568\n",
      "313/313 [==============================] - 1s 4ms/step - loss: 0.4366 - accuracy: 0.8493\n",
      "Loss:     0.44\n",
      "Accuracy: 84.93%\n"
     ]
    }
   ],
   "source": [
    "from keras.models import Sequential\n",
    "from keras.layers import Dense, Flatten\n",
    "from tensorflow.keras import optimizers\n",
    "from tensorflow.keras import initializers\n",
    "\n",
    "input_dim = 784 # 28*28\n",
    "hidden_dim = 64\n",
    "output_dim = 10\n",
    "\n",
    "y_train = to_categorical(y_train, num_classes=output_dim)\n",
    "y_test = to_categorical(y_test, num_classes=output_dim)\n",
    "\n",
    "print(y_train.shape)\n",
    "print(y_test.shape)\n",
    "\n",
    "normal_init = initializers.TruncatedNormal(stddev=0.01, seed=42)\n",
    "\n",
    "# Create a simple linear regression model\n",
    "model = Sequential()\n",
    "model.add(Flatten(input_shape=(28, 28)))\n",
    "\n",
    "# You can use `model.add(<layer>)` to add layers to the model\n",
    "model.add(Dense(hidden_dim, activation=\"tanh\", kernel_initializer=normal_init))\n",
    "model.add(Dense(output_dim, activation=\"softmax\", kernel_initializer=normal_init))\n",
    "\n",
    "# Compile the model using `model.compile()`\n",
    "model.compile(optimizer=optimizers.SGD(learning_rate=0.48),\n",
    "              loss='categorical_crossentropy', metrics=['accuracy'])\n",
    "\n",
    "print(y_train.shape)\n",
    "\n",
    "# Train the model with `model.fit()`\n",
    "model.fit(\n",
    "    X_train, # Training data\n",
    "    y_train, # Training labels\n",
    "    epochs=5, # Number of epochs > # of times do we run the dataset through the model\n",
    "    batch_size=32, # Number of samples per batch > # of samples we run each time\n",
    "    validation_split=0.2 # Use 20% of the data for validation\n",
    ")\n",
    "# Evaluate the model with `model.evaluate()`\n",
    "\n",
    "loss, accuracy = model.evaluate(X_test, y_test)\n",
    "\n",
    "\n",
    "\n",
    "print(f'Loss:     {loss:.2f}')\n",
    "print(f'Accuracy: {accuracy*100:.2f}%')"
   ]
  },
  {
   "cell_type": "markdown",
   "id": "9a07e9f7",
   "metadata": {},
   "source": [
    "Reflection: What is the performance of the baseline model? How does it compare to what you expected? Why do you think the performance is at this level?\n",
    "\n",
    "**Your answer here**\n",
    "\n",
    "Considering that this is the first run, it is good that it has a ~85% accuracy. However there is room for improvement to go close to 90%. Also the loss is 0.44. Meaning that, while it is not 0.50, further optimizations or work can be done to reduce it."
   ]
  },
  {
   "cell_type": "markdown",
   "id": "fa107b59",
   "metadata": {},
   "source": [
    "# 3. Building and Evaluating a Simple CNN Model\n",
    "\n",
    "In this section, you will build a simple Convolutional Neural Network (CNN) model using Keras. A convolutional neural network is a type of deep learning model that is particularly effective for image classification tasks. Unlike the basic neural networks we have built in the labs, CNNs can accept images as input without needing to flatten them into vectors.\n",
    "\n",
    "You should:\n",
    "- [ ] Build a simple CNN model with at least one convolutional layer (to learn spatial hierarchies in images) and one fully connected layer (to make predictions).\n",
    "- [ ] Compile the model with an appropriate loss function and metrics for a multi-class classification problem.\n",
    "- [ ] Train the model on the training set and evaluate it on the test set.\n",
    "\n",
    "Convolutional layers are designed to accept inputs with three dimensions: height, width and channels (e.g., RGB for color images). For grayscale images like those in Fashion MNIST, the input shape will be (28, 28, 1).\n",
    "\n",
    "When you progress from the convolutional layers to the fully connected layers, you will need to flatten the output of the convolutional layers. This can be done using the `Flatten` layer in Keras, which doesn't require any parameters."
   ]
  },
  {
   "cell_type": "code",
   "execution_count": 96,
   "id": "3513cf3d",
   "metadata": {},
   "outputs": [
    {
     "ename": "MemoryError",
     "evalue": "Unable to allocate 224. GiB for an array with shape (6000000000, 10) and data type float32",
     "output_type": "error",
     "traceback": [
      "\u001b[1;31m---------------------------------------------------------------------------\u001b[0m",
      "\u001b[1;31mMemoryError\u001b[0m                               Traceback (most recent call last)",
      "Cell \u001b[1;32mIn[96], line 10\u001b[0m\n\u001b[0;32m      6\u001b[0m X_test \u001b[38;5;241m=\u001b[39m X_test\u001b[38;5;241m.\u001b[39mreshape(\u001b[38;5;241m-\u001b[39m\u001b[38;5;241m1\u001b[39m, \u001b[38;5;241m28\u001b[39m, \u001b[38;5;241m28\u001b[39m, \u001b[38;5;241m1\u001b[39m)\n\u001b[0;32m      8\u001b[0m output_dim \u001b[38;5;241m=\u001b[39m \u001b[38;5;241m10\u001b[39m\n\u001b[1;32m---> 10\u001b[0m y_train \u001b[38;5;241m=\u001b[39m \u001b[43mto_categorical\u001b[49m\u001b[43m(\u001b[49m\u001b[43my_train\u001b[49m\u001b[43m,\u001b[49m\u001b[43m \u001b[49m\u001b[43mnum_classes\u001b[49m\u001b[38;5;241;43m=\u001b[39;49m\u001b[43moutput_dim\u001b[49m\u001b[43m)\u001b[49m\n\u001b[0;32m     11\u001b[0m y_test \u001b[38;5;241m=\u001b[39m to_categorical(y_test, num_classes\u001b[38;5;241m=\u001b[39moutput_dim)\n\u001b[0;32m     13\u001b[0m \u001b[38;5;66;03m# print(X_train)\u001b[39;00m\n\u001b[0;32m     14\u001b[0m \n\u001b[0;32m     15\u001b[0m \u001b[38;5;66;03m# https://www.youtube.com/watch?v=J1jhfAw5Uvo\u001b[39;00m\n\u001b[0;32m     16\u001b[0m \u001b[38;5;66;03m# Create a simple CNN model\u001b[39;00m\n",
      "File \u001b[1;32mc:\\Users\\Work\\miniconda3\\envs\\dsi_participant\\lib\\site-packages\\keras\\utils\\np_utils.py:72\u001b[0m, in \u001b[0;36mto_categorical\u001b[1;34m(y, num_classes, dtype)\u001b[0m\n\u001b[0;32m     70\u001b[0m     num_classes \u001b[38;5;241m=\u001b[39m np\u001b[38;5;241m.\u001b[39mmax(y) \u001b[38;5;241m+\u001b[39m \u001b[38;5;241m1\u001b[39m\n\u001b[0;32m     71\u001b[0m n \u001b[38;5;241m=\u001b[39m y\u001b[38;5;241m.\u001b[39mshape[\u001b[38;5;241m0\u001b[39m]\n\u001b[1;32m---> 72\u001b[0m categorical \u001b[38;5;241m=\u001b[39m \u001b[43mnp\u001b[49m\u001b[38;5;241;43m.\u001b[39;49m\u001b[43mzeros\u001b[49m\u001b[43m(\u001b[49m\u001b[43m(\u001b[49m\u001b[43mn\u001b[49m\u001b[43m,\u001b[49m\u001b[43m \u001b[49m\u001b[43mnum_classes\u001b[49m\u001b[43m)\u001b[49m\u001b[43m,\u001b[49m\u001b[43m \u001b[49m\u001b[43mdtype\u001b[49m\u001b[38;5;241;43m=\u001b[39;49m\u001b[43mdtype\u001b[49m\u001b[43m)\u001b[49m\n\u001b[0;32m     73\u001b[0m categorical[np\u001b[38;5;241m.\u001b[39marange(n), y] \u001b[38;5;241m=\u001b[39m \u001b[38;5;241m1\u001b[39m\n\u001b[0;32m     74\u001b[0m output_shape \u001b[38;5;241m=\u001b[39m input_shape \u001b[38;5;241m+\u001b[39m (num_classes,)\n",
      "\u001b[1;31mMemoryError\u001b[0m: Unable to allocate 224. GiB for an array with shape (6000000000, 10) and data type float32"
     ]
    }
   ],
   "source": [
    "from keras.layers import Conv2D\n",
    "# from keras.models import Sequential\n",
    "\n",
    "# Reshape the data to include the channel dimension\n",
    "X_train = X_train.reshape(-1, 28, 28, 1)\n",
    "X_test = X_test.reshape(-1, 28, 28, 1)\n",
    "\n",
    "output_dim = 10\n",
    "\n",
    "y_train = to_categorical(y_train, num_classes=output_dim)\n",
    "y_test = to_categorical(y_test, num_classes=output_dim)\n",
    "\n",
    "# print(X_train)\n",
    "\n",
    "# https://www.youtube.com/watch?v=J1jhfAw5Uvo\n",
    "# Create a simple CNN model\n",
    "model = Sequential([Conv2D(28, (3,3), activation = \"relu\", input_shape = (28,28,1))\n",
    "                   ,Flatten()\n",
    "                    ,Dense(56, activation = \"relu\")\n",
    "                     ,Dense(1, activation= 'sigmoid') ])\n",
    "\n",
    "\n",
    "# Train the model\n",
    "\n",
    "model.add(Flatten(input_shape=(28, 28)))\n",
    "\n",
    "\n",
    "model.compile(optimizer='adam', loss='categorical_crossentropy', metrics=['accuracy'])\n",
    "\n",
    "# Evaluate the model\n",
    "model.fit(\n",
    "    X_train, # Training data\n",
    "    y_train, # Training labels\n",
    "    epochs=5, # Number of epochs > # of times do we run the dataset through the model\n",
    "    batch_size=28, # Number of samples per batch > # of samples we run each time\n",
    "    validation_split=0.2 # Use 20% of the data for validation\n",
    ")\n",
    "# Evaluate the model with `model.evaluate()`\n",
    "\n",
    "loss, accuracy = model.evaluate(X_test, y_test)\n",
    "\n",
    "\n",
    "\n",
    "print(f'Loss:     {loss:.2f}')\n",
    "print(f'Accuracy: {accuracy*100:.2f}%')\n",
    "\n"
   ]
  },
  {
   "cell_type": "code",
   "execution_count": 95,
   "id": "4ec7bcc6",
   "metadata": {},
   "outputs": [
    {
     "ename": "MemoryError",
     "evalue": "Unable to allocate 22.4 GiB for an array with shape (60000, 10, 10, 10, 10, 10) and data type int32",
     "output_type": "error",
     "traceback": [
      "\u001b[1;31m---------------------------------------------------------------------------\u001b[0m",
      "\u001b[1;31mMemoryError\u001b[0m                               Traceback (most recent call last)",
      "Cell \u001b[1;32mIn[95], line 14\u001b[0m\n\u001b[0;32m     11\u001b[0m X_test \u001b[38;5;241m=\u001b[39m X_test\u001b[38;5;241m.\u001b[39mastype(\u001b[38;5;124m'\u001b[39m\u001b[38;5;124mfloat32\u001b[39m\u001b[38;5;124m'\u001b[39m) \u001b[38;5;241m/\u001b[39m \u001b[38;5;241m255.0\u001b[39m\n\u001b[0;32m     13\u001b[0m \u001b[38;5;66;03m# One-hot encode labels\u001b[39;00m\n\u001b[1;32m---> 14\u001b[0m y_train \u001b[38;5;241m=\u001b[39m \u001b[43mto_categorical\u001b[49m\u001b[43m(\u001b[49m\u001b[43my_train\u001b[49m\u001b[43m,\u001b[49m\u001b[43m \u001b[49m\u001b[43mnum_classes\u001b[49m\u001b[38;5;241;43m=\u001b[39;49m\u001b[38;5;241;43m10\u001b[39;49m\u001b[43m)\u001b[49m\n\u001b[0;32m     15\u001b[0m y_test \u001b[38;5;241m=\u001b[39m to_categorical(y_test, num_classes\u001b[38;5;241m=\u001b[39m\u001b[38;5;241m10\u001b[39m)\n\u001b[0;32m     17\u001b[0m \u001b[38;5;66;03m# model\u001b[39;00m\n",
      "File \u001b[1;32mc:\\Users\\Work\\miniconda3\\envs\\dsi_participant\\lib\\site-packages\\keras\\utils\\np_utils.py:64\u001b[0m, in \u001b[0;36mto_categorical\u001b[1;34m(y, num_classes, dtype)\u001b[0m\n\u001b[0;32m     23\u001b[0m \u001b[38;5;129m@keras_export\u001b[39m(\u001b[38;5;124m\"\u001b[39m\u001b[38;5;124mkeras.utils.to_categorical\u001b[39m\u001b[38;5;124m\"\u001b[39m)\n\u001b[0;32m     24\u001b[0m \u001b[38;5;28;01mdef\u001b[39;00m\u001b[38;5;250m \u001b[39m\u001b[38;5;21mto_categorical\u001b[39m(y, num_classes\u001b[38;5;241m=\u001b[39m\u001b[38;5;28;01mNone\u001b[39;00m, dtype\u001b[38;5;241m=\u001b[39m\u001b[38;5;124m\"\u001b[39m\u001b[38;5;124mfloat32\u001b[39m\u001b[38;5;124m\"\u001b[39m):\n\u001b[0;32m     25\u001b[0m \u001b[38;5;250m    \u001b[39m\u001b[38;5;124;03m\"\"\"Converts a class vector (integers) to binary class matrix.\u001b[39;00m\n\u001b[0;32m     26\u001b[0m \n\u001b[0;32m     27\u001b[0m \u001b[38;5;124;03m    E.g. for use with `categorical_crossentropy`.\u001b[39;00m\n\u001b[1;32m   (...)\u001b[0m\n\u001b[0;32m     62\u001b[0m \u001b[38;5;124;03m    [0. 0. 0. 0.]\u001b[39;00m\n\u001b[0;32m     63\u001b[0m \u001b[38;5;124;03m    \"\"\"\u001b[39;00m\n\u001b[1;32m---> 64\u001b[0m     y \u001b[38;5;241m=\u001b[39m \u001b[43mnp\u001b[49m\u001b[38;5;241;43m.\u001b[39;49m\u001b[43marray\u001b[49m\u001b[43m(\u001b[49m\u001b[43my\u001b[49m\u001b[43m,\u001b[49m\u001b[43m \u001b[49m\u001b[43mdtype\u001b[49m\u001b[38;5;241;43m=\u001b[39;49m\u001b[38;5;124;43m\"\u001b[39;49m\u001b[38;5;124;43mint\u001b[39;49m\u001b[38;5;124;43m\"\u001b[39;49m\u001b[43m)\u001b[49m\n\u001b[0;32m     65\u001b[0m     input_shape \u001b[38;5;241m=\u001b[39m y\u001b[38;5;241m.\u001b[39mshape\n\u001b[0;32m     66\u001b[0m     \u001b[38;5;28;01mif\u001b[39;00m input_shape \u001b[38;5;129;01mand\u001b[39;00m input_shape[\u001b[38;5;241m-\u001b[39m\u001b[38;5;241m1\u001b[39m] \u001b[38;5;241m==\u001b[39m \u001b[38;5;241m1\u001b[39m \u001b[38;5;129;01mand\u001b[39;00m \u001b[38;5;28mlen\u001b[39m(input_shape) \u001b[38;5;241m>\u001b[39m \u001b[38;5;241m1\u001b[39m:\n",
      "\u001b[1;31mMemoryError\u001b[0m: Unable to allocate 22.4 GiB for an array with shape (60000, 10, 10, 10, 10, 10) and data type int32"
     ]
    }
   ],
   "source": [
    "from keras.models import Sequential\n",
    "from keras.layers import Conv2D, MaxPooling2D, Flatten, Dense\n",
    "from keras.utils import to_categorical\n",
    "\n",
    "# Reshape the data to include the channel dimension (grayscale images)\n",
    "X_train = X_train.reshape(-1, 28, 28, 1)\n",
    "X_test = X_test.reshape(-1, 28, 28, 1)\n",
    "\n",
    "# Normalize pixel values to [0, 1]\n",
    "X_train = X_train.astype('float32') / 255.0\n",
    "X_test = X_test.astype('float32') / 255.0\n",
    "\n",
    "# One-hot encode labels\n",
    "y_train = to_categorical(y_train, num_classes=10)\n",
    "y_test = to_categorical(y_test, num_classes=10)\n",
    "\n",
    "# model\n",
    "model = Sequential([\n",
    "    Conv2D(32, (3, 3), activation='relu', input_shape=(28, 28, 1)),\n",
    "    MaxPooling2D(pool_size=(2, 2)),\n",
    "    Conv2D(64, (3, 3), activation='relu'),\n",
    "    MaxPooling2D(pool_size=(2, 2)),\n",
    "    Flatten(),\n",
    "    Dense(128, activation='relu'),\n",
    "    Dense(10, activation='softmax')\n",
    "])\n",
    "\n",
    "# Compile and train\n",
    "model.compile(optimizer='adam',\n",
    "              loss='categorical_crossentropy',\n",
    "              metrics=['accuracy'])\n",
    "\n",
    "model.fit(X_train, y_train, epochs=5, batch_size=32, validation_split=0.2)\n",
    "\n",
    "print(model.summary())\n",
    "\n",
    "# Evaluate\n",
    "\n",
    "loss, accuracy = model.evaluate(X_test, y_test)\n",
    "print(f'Loss:     {loss:.2f}')\n",
    "print(f'Accuracy: {accuracy * 100:.2f}%')"
   ]
  },
  {
   "cell_type": "code",
   "execution_count": null,
   "id": "020f4034",
   "metadata": {},
   "outputs": [],
   "source": [
    "# testing cell\n",
    "\n",
    "from keras.layers import Conv2D\n",
    "# from keras.models import Sequential\n",
    "\n",
    "# Reshape the data to include the channel dimension\n",
    "X_train = X_train.reshape(-1, 28, 28, 1)\n",
    "X_test = X_test.reshape(-1, 28, 28, 1)\n",
    "\n",
    "output_dim = 10\n",
    "\n",
    "y_train = to_categorical(y_train, num_classes=output_dim)\n",
    "y_test = to_categorical(y_test, num_classes=output_dim)\n",
    "\n",
    "# print(X_train)\n",
    "\n",
    "# https://www.youtube.com/watch?v=J1jhfAw5Uvo\n",
    "# Create a simple CNN model\n",
    "model = Sequential([Conv2D(28, (3,3), activation = \"relu\", input_shape = (28,28,1))\n",
    "#                   ,Flatten()\n",
    "                    ,Dense(56, activation = \"relu\")\n",
    "                     ,Dense(10, activation= 'softmax') ])\n",
    "\n",
    "\n",
    "# Train the model\n",
    "\n",
    "model.add(Flatten(input_shape=(28, 28)))\n",
    "\n",
    "\n",
    "model.compile(optimizer='adam', loss='categorical_crossentropy', metrics=['accuracy'])\n",
    "\n",
    "# Evaluate the model\n",
    "model.fit(\n",
    "    X_train, # Training data\n",
    "    y_train, # Training labels\n",
    "    epochs=5, # Number of epochs > # of times do we run the dataset through the model\n",
    "    batch_size=28, # Number of samples per batch > # of samples we run each time\n",
    "    validation_split=0.2 # Use 20% of the data for validation\n",
    ")\n",
    "# Evaluate the model with `model.evaluate()`\n",
    "\n",
    "loss, accuracy = model.evaluate(X_test, y_test)\n",
    "\n",
    "\n",
    "\n",
    "print(f'Loss:     {loss:.2f}')\n",
    "print(f'Accuracy: {accuracy*100:.2f}%')\n",
    "\n"
   ]
  },
  {
   "cell_type": "markdown",
   "id": "fabe379c",
   "metadata": {},
   "source": [
    "Reflection: Did the CNN model perform better than the baseline model? If so, by how much? What do you think contributed to this improvement?\n",
    "\n",
    "**Your answer here**\n",
    "\n",
    "My CNN model didn't perform better than the baseline model. Possibly due to hardware limits or code optimization, the CNN model did not run as expected. "
   ]
  },
  {
   "cell_type": "markdown",
   "id": "1a5e2463",
   "metadata": {},
   "source": [
    "# 3. Designing and Running Controlled Experiments\n",
    "\n",
    "In this section, you will design and run controlled experiments to improve the model's performance. You will focus on one hyperparameter and one regularization technique.\n",
    "You should:\n",
    "- [ ] Choose one hyperparameter to experiment with (e.g., number of filters, kernel size, number of layers, etc.) and one regularization technique (e.g., dropout, L2 regularization). For your hyperparameter, you should choose at least three different values to test (but there is no upper limit). For your regularization technique, simply test the presence or absence of the technique.\n",
    "- [ ] Run experiments by modifying the model architecture or hyperparameters, and evaluate the performance of each model on the test set.\n",
    "- [ ] Record the results of your experiments, including the test accuracy and any other relevant metrics.\n",
    "- [ ] Visualize the results of your experiments using plots or tables to compare the performance of different models.\n",
    "\n",
    "The best way to run your experiments is to create a `for` loop that iterates over a range of values for the hyperparameter you are testing. For example, if you are testing different numbers of filters, you can create a loop that runs the model with 32, 64, and 128 filters. Within the loop, you can compile and train the model, then evaluate it on the test set. After each iteration, you can store the results in a list or a dictionary for later analysis.\n",
    "\n",
    "Note: It's critical that you re-initialize the model (by creating a new instance of the model) before each experiment. If you don't, the model will retain the weights from the previous experiment, which can lead to misleading results."
   ]
  },
  {
   "cell_type": "code",
   "execution_count": 110,
   "id": "99d6f46c",
   "metadata": {},
   "outputs": [
    {
     "name": "stdout",
     "output_type": "stream",
     "text": [
      "Epoch 1/5\n",
      "1500/1500 [==============================] - 75s 50ms/step - loss: 1.0214 - accuracy: 0.6254 - val_loss: 0.7005 - val_accuracy: 0.7434\n",
      "Epoch 2/5\n",
      "1500/1500 [==============================] - 74s 49ms/step - loss: 0.6643 - accuracy: 0.7489 - val_loss: 0.6110 - val_accuracy: 0.7688\n",
      "Epoch 3/5\n",
      "1500/1500 [==============================] - 76s 51ms/step - loss: 0.5989 - accuracy: 0.7727 - val_loss: 0.5693 - val_accuracy: 0.7857\n",
      "Epoch 4/5\n",
      "1500/1500 [==============================] - 70s 47ms/step - loss: 0.5491 - accuracy: 0.7934 - val_loss: 0.5357 - val_accuracy: 0.7981\n",
      "Epoch 5/5\n",
      "1500/1500 [==============================] - 74s 49ms/step - loss: 0.5140 - accuracy: 0.8083 - val_loss: 0.5138 - val_accuracy: 0.8103\n",
      "313/313 [==============================] - 11s 36ms/step - loss: 0.5388 - accuracy: 0.7984\n",
      "Epoch 1/5\n",
      "1500/1500 [==============================] - 95s 63ms/step - loss: 0.9721 - accuracy: 0.6350 - val_loss: 0.7059 - val_accuracy: 0.7188\n",
      "Epoch 2/5\n",
      "1500/1500 [==============================] - 110s 74ms/step - loss: 0.6398 - accuracy: 0.7575 - val_loss: 0.5900 - val_accuracy: 0.7822\n",
      "Epoch 3/5\n",
      "1500/1500 [==============================] - 102s 68ms/step - loss: 0.5573 - accuracy: 0.7904 - val_loss: 0.5483 - val_accuracy: 0.8000\n",
      "Epoch 4/5\n",
      "1500/1500 [==============================] - 105s 70ms/step - loss: 0.5056 - accuracy: 0.8110 - val_loss: 0.5071 - val_accuracy: 0.8101\n",
      "Epoch 5/5\n",
      "1500/1500 [==============================] - 88s 59ms/step - loss: 0.4721 - accuracy: 0.8262 - val_loss: 0.4584 - val_accuracy: 0.8330\n",
      "313/313 [==============================] - 10s 30ms/step - loss: 0.4766 - accuracy: 0.8279\n",
      "Epoch 1/5\n",
      "1500/1500 [==============================] - 96s 64ms/step - loss: 1.0763 - accuracy: 0.5983 - val_loss: 0.7373 - val_accuracy: 0.7248\n",
      "Epoch 2/5\n",
      "1500/1500 [==============================] - 91s 61ms/step - loss: 0.7168 - accuracy: 0.7275 - val_loss: 0.6634 - val_accuracy: 0.7467\n",
      "Epoch 3/5\n",
      "1500/1500 [==============================] - 94s 63ms/step - loss: 0.6389 - accuracy: 0.7558 - val_loss: 0.5977 - val_accuracy: 0.7745\n",
      "Epoch 4/5\n",
      "1500/1500 [==============================] - 110s 74ms/step - loss: 0.5773 - accuracy: 0.7807 - val_loss: 0.5706 - val_accuracy: 0.7801\n",
      "Epoch 5/5\n",
      "1500/1500 [==============================] - 115s 77ms/step - loss: 0.5396 - accuracy: 0.7951 - val_loss: 0.5268 - val_accuracy: 0.8002\n",
      "313/313 [==============================] - 13s 39ms/step - loss: 0.5547 - accuracy: 0.7914\n"
     ]
    }
   ],
   "source": [
    "# A. Test Hyperparameters\n",
    "\n",
    "import tensorflow as tf\n",
    "\n",
    "from keras.models import Sequential\n",
    "\n",
    "\n",
    "\n",
    "# Normalize the pixel values to be between 0 and 1\n",
    "X_train = X_train.reshape(-1, 28, 28, 1).astype(\"float32\") / 255.0\n",
    "X_test = X_test.reshape(-1, 28, 28, 1).astype(\"float32\") / 255.0\n",
    "\n",
    "y_train = y_train.reshape(-1) \n",
    "y_test = y_test.reshape(-1)\n",
    "\n",
    "# loop foing through 32, 64, 128 filters\n",
    "filters = [32, 64, 128]\n",
    "hyperparam_results = []\n",
    "\n",
    "# for loop\n",
    "\n",
    "for items in filters:\n",
    "    model = Sequential([\n",
    "    Conv2D(items, (3, 3), activation='relu', input_shape=(28, 28, 1)),\n",
    "    MaxPooling2D(pool_size=(2, 2)),\n",
    "    Conv2D(64, (3, 3), activation='relu'),\n",
    "    MaxPooling2D(pool_size=(2, 2)),\n",
    "    Flatten(),\n",
    "    Dense(128, activation='relu'),\n",
    "    Dense(10, activation='softmax')\n",
    "])\n",
    "    model.compile(optimizer='adam', loss='sparse_categorical_crossentropy', metrics=['accuracy'])\n",
    "    model.fit(X_train, y_train, epochs=5, validation_split=0.2)\n",
    "\n",
    "    test_loss, test_acc = model.evaluate(X_test, y_test)\n",
    "    hyperparam_results.append({'filters': items, 'accuracy': test_acc})\n",
    "\n"
   ]
  },
  {
   "cell_type": "code",
   "execution_count": null,
   "id": "cbb5ec99",
   "metadata": {},
   "outputs": [],
   "source": [
    "loss, accuracy = model.evaluate(X_test, y_test)\n",
    "\n",
    "\n",
    "\n",
    "print(f'Loss:     {loss:.2f}')\n",
    "print(f'Accuracy: {accuracy*100:.2f}%')\n"
   ]
  },
  {
   "cell_type": "code",
   "execution_count": 111,
   "id": "e42048ac",
   "metadata": {},
   "outputs": [
    {
     "data": {
      "image/png": "[encoded data removed]",
      "text/plain": [
       "<Figure size 1500x500 with 1 Axes>"
      ]
     },
     "metadata": {},
     "output_type": "display_data"
    }
   ],
   "source": [
    "# plot data\n",
    "\n",
    "labels_as_int = {\n",
    "    'history': {\n",
    "    'loss': [1, 0.9, 0.7, 0.5, 0.3, 0.1, 0.05, 0.01, 0.001]\n",
    "    }\n",
    "}\n",
    "\n",
    "plt.figure(figsize=(15, 5))\n",
    "plt.plot(labels_as_int['history']['loss'], label=\"Truncated Normal init\")\n",
    "plt.show()"
   ]
  },
  {
   "cell_type": "code",
   "execution_count": 117,
   "id": "dc43ac81",
   "metadata": {},
   "outputs": [
    {
     "name": "stdout",
     "output_type": "stream",
     "text": [
      "Epoch 1/5\n",
      "1500/1500 [==============================] - 72s 48ms/step - loss: 2.3067 - accuracy: 0.0989 - val_loss: 2.3060 - val_accuracy: 0.0995\n",
      "Epoch 2/5\n",
      "1500/1500 [==============================] - 75s 50ms/step - loss: 2.3062 - accuracy: 0.1005 - val_loss: 2.3055 - val_accuracy: 0.0995\n",
      "Epoch 3/5\n",
      "1500/1500 [==============================] - 75s 50ms/step - loss: 2.3061 - accuracy: 0.1009 - val_loss: 2.3040 - val_accuracy: 0.0957\n",
      "Epoch 4/5\n",
      "1500/1500 [==============================] - 75s 50ms/step - loss: 2.3062 - accuracy: 0.1009 - val_loss: 2.3065 - val_accuracy: 0.0983\n",
      "Epoch 5/5\n",
      "1500/1500 [==============================] - 76s 51ms/step - loss: 2.3059 - accuracy: 0.0996 - val_loss: 2.3064 - val_accuracy: 0.1027\n",
      "Epoch 1/5\n",
      "1500/1500 [==============================] - 78s 51ms/step - loss: 2.3062 - accuracy: 0.0990 - val_loss: 2.3056 - val_accuracy: 0.0983\n",
      "Epoch 2/5\n",
      "1500/1500 [==============================] - 74s 49ms/step - loss: 2.3061 - accuracy: 0.0987 - val_loss: 2.3070 - val_accuracy: 0.1005\n",
      "Epoch 3/5\n",
      "1500/1500 [==============================] - 76s 51ms/step - loss: 2.3064 - accuracy: 0.0986 - val_loss: 2.3096 - val_accuracy: 0.1013\n",
      "Epoch 4/5\n",
      "1500/1500 [==============================] - 75s 50ms/step - loss: 2.3059 - accuracy: 0.1013 - val_loss: 2.3046 - val_accuracy: 0.1003\n",
      "Epoch 5/5\n",
      "1500/1500 [==============================] - 77s 51ms/step - loss: 2.3059 - accuracy: 0.0998 - val_loss: 2.3048 - val_accuracy: 0.0995\n"
     ]
    }
   ],
   "source": [
    "# B. Test presence or absence of regularization\n",
    "\n",
    "from keras.layers import Dropout\n",
    "\n",
    "regularization = []\n",
    "\n",
    "for drop in [True, False]:\n",
    "    model = Sequential([\n",
    "    Conv2D(28, (3, 3), activation='relu', input_shape=(28, 28, 1)),\n",
    "    MaxPooling2D(pool_size=(2, 2)),\n",
    "    Conv2D(64, (3, 3), activation='relu'),\n",
    "    MaxPooling2D(pool_size=(2, 2)),\n",
    "    Flatten(),\n",
    "    Dense(128, activation='relu'),\n",
    "    Dense(10, activation='softmax')])\n",
    "\n",
    "    if drop:\n",
    "        model.add(Dropout(0.5))\n",
    "\n",
    "    model.add(Dense(128, activation='relu'))\n",
    "    model.add(Dense(10, activation='softmax'))\n",
    "\n",
    "    # compile\n",
    "    model.compile(optimizer=optimizers.SGD(learning_rate=0.48),\n",
    "              loss='sparse_categorical_crossentropy', metrics=['accuracy'])\n",
    "\n",
    "\n",
    "    # fit\n",
    "    model.fit(X_train, y_train, epochs=5, batch_size=32, validation_split=0.2)\n",
    "\n",
    "    test_loss, test_acc = model.evaluate(X_test, y_test, verbose=0)\n",
    "    regularization.append({\n",
    "        'dropout_applied': drop,\n",
    "        'test_accuracy': test_acc\n",
    "    })\n"
   ]
  },
  {
   "cell_type": "code",
   "execution_count": 121,
   "id": "aa393cf9",
   "metadata": {},
   "outputs": [
    {
     "name": "stdout",
     "output_type": "stream",
     "text": [
      "313/313 [==============================] - 11s 36ms/step - loss: 2.3049 - accuracy: 0.1000\n",
      "Loss:     2.30\n",
      "Accuracy: 10.00%\n"
     ]
    }
   ],
   "source": [
    "loss, accuracy = model.evaluate(X_test, y_test)\n",
    "\n",
    "\n",
    "\n",
    "print(f'Loss:     {loss:.2f}')\n",
    "print(f'Accuracy: {accuracy*100:.2f}%')\n"
   ]
  },
  {
   "cell_type": "code",
   "execution_count": 118,
   "id": "ac29e21e",
   "metadata": {},
   "outputs": [
    {
     "data": {
      "image/png": "[encoded data removed]",
      "text/plain": [
       "<Figure size 1500x500 with 1 Axes>"
      ]
     },
     "metadata": {},
     "output_type": "display_data"
    }
   ],
   "source": [
    "# visualize the data\n",
    "\n",
    "labels_as_int = {\n",
    "    'history': {\n",
    "    'loss': [1, 0.9, 0.7, 0.5, 0.3, 0.1, 0.05, 0.01, 0.001]\n",
    "    }\n",
    "}\n",
    "\n",
    "plt.figure(figsize=(15, 5))\n",
    "plt.plot(labels_as_int['history']['loss'], label=\"Truncated Normal init\")\n",
    "plt.show()"
   ]
  },
  {
   "cell_type": "markdown",
   "id": "cb426f26",
   "metadata": {},
   "source": [
    "Reflection: Report on the performance of the models you tested. Did any of the changes you made improve the model's performance? If so, which ones? What do you think contributed to these improvements? Finally, what combination of hyperparameters and regularization techniques yielded the best performance?\n",
    "\n",
    "**Your answer here**\n",
    "\n",
    "The hyperparameter test seemed have yielded better results than the \"presence or absence of regularization\" test. The hyperparameter test has a higher accuracy than the \"presence or absence of regularization\" test."
   ]
  },
  {
   "cell_type": "markdown",
   "id": "46c43a3d",
   "metadata": {},
   "source": [
    "# 5. Training Final Model and Evaluation\n",
    "\n",
    "In this section, you will train the final model using the best hyperparameters and regularization techniques you found in the previous section. You should:\n",
    "- [ ] Compile the final model with the best hyperparameters and regularization techniques.\n",
    "- [ ] Train the final model on the training set and evaluate it on the test set.\n",
    "- [ ] Report the final model's performance on the test set, including accuracy and any other relevant metrics."
   ]
  },
  {
   "cell_type": "code",
   "execution_count": 119,
   "id": "31f926d1",
   "metadata": {},
   "outputs": [
    {
     "name": "stdout",
     "output_type": "stream",
     "text": [
      "Epoch 1/5\n",
      "1500/1500 [==============================] - 82s 47ms/step - loss: 2.3061 - accuracy: 0.0999 - val_loss: 2.3075 - val_accuracy: 0.1027\n",
      "Epoch 2/5\n",
      "1500/1500 [==============================] - 70s 47ms/step - loss: 2.3061 - accuracy: 0.1009 - val_loss: 2.3051 - val_accuracy: 0.1027\n",
      "Epoch 3/5\n",
      "1500/1500 [==============================] - 72s 48ms/step - loss: 2.3063 - accuracy: 0.0983 - val_loss: 2.3047 - val_accuracy: 0.1013\n",
      "Epoch 4/5\n",
      "1500/1500 [==============================] - 70s 46ms/step - loss: 2.3062 - accuracy: 0.1010 - val_loss: 2.3074 - val_accuracy: 0.0983\n",
      "Epoch 5/5\n",
      "1500/1500 [==============================] - 70s 46ms/step - loss: 2.3060 - accuracy: 0.1003 - val_loss: 2.3110 - val_accuracy: 0.0957\n",
      "313/313 [==============================] - 10s 30ms/step - loss: 2.3101 - accuracy: 0.1000\n",
      "Loss:     2.31\n",
      "Accuracy: 10.00%\n"
     ]
    }
   ],
   "source": [
    "from keras import optimizers\n",
    "\n",
    "final_Model = Sequential([\n",
    "    Conv2D(28, (3, 3), activation='relu', input_shape=(28, 28, 1)),\n",
    "    MaxPooling2D(pool_size=(2, 2)),\n",
    "    Conv2D(64, (3, 3), activation='relu'),\n",
    "    MaxPooling2D(pool_size=(2, 2)),\n",
    "    Flatten(),\n",
    "    Dense(128, activation='relu'),\n",
    "    Dense(10, activation='softmax')])\n",
    "\n",
    "\n",
    "# Compile the model\n",
    "final_Model.compile(optimizer=optimizers.SGD(\n",
    "                    learning_rate=0.48),\n",
    "                    loss='sparse_categorical_crossentropy',\n",
    "                    metrics=['accuracy'])\n",
    "\n",
    "# fit the model\n",
    "final_Model.fit(X_train, y_train, epochs=5, validation_split=0.2)\n",
    "\n",
    "# evaluate\n",
    "\n",
    "loss, accuracy = final_Model.evaluate(X_test, y_test)\n",
    "\n",
    "\n",
    "\n",
    "print(f'Loss:     {loss:.2f}')\n",
    "print(f'Accuracy: {accuracy*100:.2f}%')\n"
   ]
  },
  {
   "cell_type": "markdown",
   "id": "a01f8ebc",
   "metadata": {},
   "source": [
    "Reflection: How does the final model's performance compare to the baseline and the CNN model? What do you think contributed to the final model's performance? If you had time, what other experiments would you run to further improve the model's performance?\n",
    "\n",
    "**Your answer here**\n",
    "\n",
    "THe final model in theory should perform better than the baseline. For example by flattening the data, it allowed the model to learn the relationship using the entire image. While the MaxPooling2D should help reduce the amount of computational resources by shrinking the feature map.\n",
    "\n",
    "However the final model comes with an additional computation requirwments compared to the baseline. "
   ]
  },
  {
   "cell_type": "markdown",
   "id": "01db8512",
   "metadata": {},
   "source": [
    "🚨 **Please review our [Assignment Submission Guide](https://github.com/UofT-DSI/onboarding/blob/main/onboarding_documents/submissions.md)** 🚨 for detailed instructions on how to format, branch, and submit your work. Following these guidelines is crucial for your submissions to be evaluated correctly.\n",
    "### Submission Parameters:\n",
    "* Submission Due Date: `23:59 PM - 06/07/2025`\n",
    "* The branch name for your repo should be: `assignment-1`\n",
    "* What to submit for this assignment:\n",
    "    * This Jupyter Notebook (assignment_1.ipynb)\n",
    "    * The Lab 1 notebook (labs/lab_1.ipynb)\n",
    "    * The Lab 2 notebook (labs/lab_2.ipynb)\n",
    "* What the pull request link should look like for this assignment: `https://github.com/<your_github_username>/deep_learning/pull/<pr_id>`\n",
    "* Open a private window in your browser. Copy and paste the link to your pull request into the address bar. Make sure you can see your pull request properly. This helps the technical facilitator and learning support staff review your submission easily.\n",
    "Checklist:\n",
    "- [ ] Created a branch with the correct naming convention.\n",
    "- [ ] Ensured that the repository is public.\n",
    "- [ ] Reviewed the PR description guidelines and adhered to them.\n",
    "- [ ] Verify that the link is accessible in a private browser window.\n",
    "If you encounter any difficulties or have questions, please don't hesitate to reach out to our team via our Slack at `#cohort-6-ml-help`. Our Technical Facilitators and Learning Support staff are here to help you navigate any challenges."
   ]
  }
 ],
 "metadata": {
  "kernelspec": {
   "display_name": "dsi_participant",
   "language": "python",
   "name": "python3"
  },
  "language_info": {
   "codemirror_mode": {
    "name": "ipython",
    "version": 3
   },
   "file_extension": ".py",
   "mimetype": "text/x-python",
   "name": "python",
   "nbconvert_exporter": "python",
   "pygments_lexer": "ipython3",
   "version": "3.9.15"
  }
 },
 "nbformat": 4,
 "nbformat_minor": 5
}
